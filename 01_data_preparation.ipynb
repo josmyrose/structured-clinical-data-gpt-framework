{
  "nbformat": 4,
  "nbformat_minor": 0,
  "metadata": {
    "colab": {
      "provenance": [],
      "mount_file_id": "1FjycrueakOjdy25MBdmOeyUwg2BB1G9E",
      "authorship_tag": "ABX9TyM7NWiLhZKm2naxmyQHK4o+",
      "include_colab_link": true
    },
    "kernelspec": {
      "name": "python3",
      "display_name": "Python 3"
    },
    "language_info": {
      "name": "python"
    }
  },
  "cells": [
    {
      "cell_type": "markdown",
      "metadata": {
        "id": "view-in-github",
        "colab_type": "text"
      },
      "source": [
        "<a href=\"https://colab.research.google.com/github/josmyrose/digital_clinical_ml/blob/main/01_data_preparation.ipynb\" target=\"_parent\"><img src=\"https://colab.research.google.com/assets/colab-badge.svg\" alt=\"Open In Colab\"/></a>"
      ]
    },
    {
      "cell_type": "code",
      "execution_count": null,
      "metadata": {
        "id": "jpesCKRehKB0"
      },
      "outputs": [],
      "source": [
        "# ==============================================================\n",
        "# 📘 01_data_preparation.ipynb\n",
        "# Author: Josmy Mathew\n",
        "# Project: AI-Digital-Twin-for-Clinical-Data\n",
        "# Description:\n",
        "#   Load, clean, and integrate Synthea EHR data into\n",
        "#   structured longitudinal patient time-series tables.\n",
        "# ==============================================================\n",
        "\n"
      ]
    },
    {
      "cell_type": "markdown",
      "source": [
        "**Step 1 — Import Libraries**"
      ],
      "metadata": {
        "id": "bUGL7YMYpxTK"
      }
    },
    {
      "cell_type": "code",
      "source": [
        "import pandas as pd\n",
        "import numpy as np\n",
        "import os\n",
        "from datetime import datetime\n",
        "import matplotlib.pyplot as plt\n",
        "import seaborn as sns\n",
        "from pathlib import Path\n",
        "# Display settings\n",
        "pd.set_option('display.max_columns', None)\n"
      ],
      "metadata": {
        "id": "LTlgY2wWp4Ep"
      },
      "execution_count": null,
      "outputs": []
    },
    {
      "cell_type": "markdown",
      "source": [
        "**Step 2 — Load Synthea CSV Data**"
      ],
      "metadata": {
        "id": "xkqNYtfmqMUk"
      }
    },
    {
      "cell_type": "code",
      "source": [
        "data_dir = Path(\"/content/drive/MyDrive/synthea_sample_data_csv_latest\")\n",
        "files = {f.stem: f for f in data_dir.glob(\"*.csv\")}\n",
        "\n",
        "dfs = {}\n",
        "for name, path in files.items():\n",
        "    dfs[name] = pd.read_csv(path)\n",
        "    print(f\"Loaded {name}: {dfs[name].shape}\")"
      ],
      "metadata": {
        "colab": {
          "base_uri": "https://localhost:8080/"
        },
        "id": "EQquLduGFIaN",
        "outputId": "a9ef7e60-0d5c-4b0d-93b5-3346d234a144"
      },
      "execution_count": null,
      "outputs": [
        {
          "output_type": "stream",
          "name": "stdout",
          "text": [
            "Loaded supplies: (3149, 6)\n",
            "Loaded observations: (100980, 9)\n",
            "Loaded claims_transactions: (104272, 33)\n",
            "Loaded medications: (5701, 13)\n",
            "Loaded devices: (640, 7)\n",
            "Loaded claims: (12115, 31)\n",
            "Loaded careplans: (337, 9)\n",
            "Loaded payers: (10, 22)\n",
            "Loaded organizations: (273, 11)\n",
            "Loaded immunizations: (1535, 6)\n",
            "Loaded allergies: (85, 15)\n",
            "Loaded providers: (273, 13)\n",
            "Loaded payer_transitions: (4097, 8)\n",
            "Loaded imaging_studies: (29193, 13)\n",
            "Loaded conditions: (4294, 7)\n",
            "Loaded encounters: (6414, 15)\n",
            "Loaded patients: (109, 28)\n",
            "Loaded procedures: (19287, 10)\n"
          ]
        }
      ]
    },
    {
      "cell_type": "code",
      "source": [
        "# Parse datetimes for columns that look like dates\n",
        "def parse_dates(df):\n",
        "    for c in df.columns:\n",
        "        if any(k in c.lower() for k in ['date','start','stop','birth']):\n",
        "            try:\n",
        "                df[c] = pd.to_datetime(df[c], errors='coerce')\n",
        "            except Exception:\n",
        "                pass\n",
        "    return df\n",
        "\n",
        "for k in list(dfs.keys()):\n",
        "    dfs[k] = parse_dates(dfs[k])\n",
        "\n",
        "# quick shapes and sample columns\n",
        "for k, df in dfs.items():\n",
        "    print(f\"{k}: shape={df.shape}\")\n",
        "    print(df.columns.tolist())\n",
        "    print()\n"
      ],
      "metadata": {
        "colab": {
          "base_uri": "https://localhost:8080/"
        },
        "id": "eMX7394ECOfH",
        "outputId": "8a8c58bd-753f-44bc-e2cb-a588fba82994"
      },
      "execution_count": null,
      "outputs": [
        {
          "output_type": "stream",
          "name": "stdout",
          "text": [
            "supplies: shape=(3149, 6)\n",
            "['DATE', 'PATIENT', 'ENCOUNTER', 'CODE', 'DESCRIPTION', 'QUANTITY']\n",
            "\n",
            "observations: shape=(100980, 9)\n",
            "['DATE', 'PATIENT', 'ENCOUNTER', 'CATEGORY', 'CODE', 'DESCRIPTION', 'VALUE', 'UNITS', 'TYPE']\n",
            "\n",
            "claims_transactions: shape=(104272, 33)\n",
            "['ID', 'CLAIMID', 'CHARGEID', 'PATIENTID', 'TYPE', 'AMOUNT', 'METHOD', 'FROMDATE', 'TODATE', 'PLACEOFSERVICE', 'PROCEDURECODE', 'MODIFIER1', 'MODIFIER2', 'DIAGNOSISREF1', 'DIAGNOSISREF2', 'DIAGNOSISREF3', 'DIAGNOSISREF4', 'UNITS', 'DEPARTMENTID', 'NOTES', 'UNITAMOUNT', 'TRANSFEROUTID', 'TRANSFERTYPE', 'PAYMENTS', 'ADJUSTMENTS', 'TRANSFERS', 'OUTSTANDING', 'APPOINTMENTID', 'LINENOTE', 'PATIENTINSURANCEID', 'FEESCHEDULEID', 'PROVIDERID', 'SUPERVISINGPROVIDERID']\n",
            "\n",
            "medications: shape=(5701, 13)\n",
            "['START', 'STOP', 'PATIENT', 'PAYER', 'ENCOUNTER', 'CODE', 'DESCRIPTION', 'BASE_COST', 'PAYER_COVERAGE', 'DISPENSES', 'TOTALCOST', 'REASONCODE', 'REASONDESCRIPTION']\n",
            "\n",
            "devices: shape=(640, 7)\n",
            "['START', 'STOP', 'PATIENT', 'ENCOUNTER', 'CODE', 'DESCRIPTION', 'UDI']\n",
            "\n",
            "claims: shape=(12115, 31)\n",
            "['Id', 'PATIENTID', 'PROVIDERID', 'PRIMARYPATIENTINSURANCEID', 'SECONDARYPATIENTINSURANCEID', 'DEPARTMENTID', 'PATIENTDEPARTMENTID', 'DIAGNOSIS1', 'DIAGNOSIS2', 'DIAGNOSIS3', 'DIAGNOSIS4', 'DIAGNOSIS5', 'DIAGNOSIS6', 'DIAGNOSIS7', 'DIAGNOSIS8', 'REFERRINGPROVIDERID', 'APPOINTMENTID', 'CURRENTILLNESSDATE', 'SERVICEDATE', 'SUPERVISINGPROVIDERID', 'STATUS1', 'STATUS2', 'STATUSP', 'OUTSTANDING1', 'OUTSTANDING2', 'OUTSTANDINGP', 'LASTBILLEDDATE1', 'LASTBILLEDDATE2', 'LASTBILLEDDATEP', 'HEALTHCARECLAIMTYPEID1', 'HEALTHCARECLAIMTYPEID2']\n",
            "\n",
            "careplans: shape=(337, 9)\n",
            "['Id', 'START', 'STOP', 'PATIENT', 'ENCOUNTER', 'CODE', 'DESCRIPTION', 'REASONCODE', 'REASONDESCRIPTION']\n",
            "\n",
            "payers: shape=(10, 22)\n",
            "['Id', 'NAME', 'OWNERSHIP', 'ADDRESS', 'CITY', 'STATE_HEADQUARTERED', 'ZIP', 'PHONE', 'AMOUNT_COVERED', 'AMOUNT_UNCOVERED', 'REVENUE', 'COVERED_ENCOUNTERS', 'UNCOVERED_ENCOUNTERS', 'COVERED_MEDICATIONS', 'UNCOVERED_MEDICATIONS', 'COVERED_PROCEDURES', 'UNCOVERED_PROCEDURES', 'COVERED_IMMUNIZATIONS', 'UNCOVERED_IMMUNIZATIONS', 'UNIQUE_CUSTOMERS', 'QOLS_AVG', 'MEMBER_MONTHS']\n",
            "\n",
            "organizations: shape=(273, 11)\n",
            "['Id', 'NAME', 'ADDRESS', 'CITY', 'STATE', 'ZIP', 'LAT', 'LON', 'PHONE', 'REVENUE', 'UTILIZATION']\n",
            "\n",
            "immunizations: shape=(1535, 6)\n",
            "['DATE', 'PATIENT', 'ENCOUNTER', 'CODE', 'DESCRIPTION', 'BASE_COST']\n",
            "\n",
            "allergies: shape=(85, 15)\n",
            "['START', 'STOP', 'PATIENT', 'ENCOUNTER', 'CODE', 'SYSTEM', 'DESCRIPTION', 'TYPE', 'CATEGORY', 'REACTION1', 'DESCRIPTION1', 'SEVERITY1', 'REACTION2', 'DESCRIPTION2', 'SEVERITY2']\n",
            "\n",
            "providers: shape=(273, 13)\n",
            "['Id', 'ORGANIZATION', 'NAME', 'GENDER', 'SPECIALITY', 'ADDRESS', 'CITY', 'STATE', 'ZIP', 'LAT', 'LON', 'ENCOUNTERS', 'PROCEDURES']\n",
            "\n",
            "payer_transitions: shape=(4097, 8)\n",
            "['PATIENT', 'MEMBERID', 'START_DATE', 'END_DATE', 'PAYER', 'SECONDARY_PAYER', 'PLAN_OWNERSHIP', 'OWNER_NAME']\n",
            "\n",
            "imaging_studies: shape=(29193, 13)\n",
            "['Id', 'DATE', 'PATIENT', 'ENCOUNTER', 'SERIES_UID', 'BODYSITE_CODE', 'BODYSITE_DESCRIPTION', 'MODALITY_CODE', 'MODALITY_DESCRIPTION', 'INSTANCE_UID', 'SOP_CODE', 'SOP_DESCRIPTION', 'PROCEDURE_CODE']\n",
            "\n",
            "conditions: shape=(4294, 7)\n",
            "['START', 'STOP', 'PATIENT', 'ENCOUNTER', 'SYSTEM', 'CODE', 'DESCRIPTION']\n",
            "\n",
            "encounters: shape=(6414, 15)\n",
            "['Id', 'START', 'STOP', 'PATIENT', 'ORGANIZATION', 'PROVIDER', 'PAYER', 'ENCOUNTERCLASS', 'CODE', 'DESCRIPTION', 'BASE_ENCOUNTER_COST', 'TOTAL_CLAIM_COST', 'PAYER_COVERAGE', 'REASONCODE', 'REASONDESCRIPTION']\n",
            "\n",
            "patients: shape=(109, 28)\n",
            "['Id', 'BIRTHDATE', 'DEATHDATE', 'SSN', 'DRIVERS', 'PASSPORT', 'PREFIX', 'FIRST', 'MIDDLE', 'LAST', 'SUFFIX', 'MAIDEN', 'MARITAL', 'RACE', 'ETHNICITY', 'GENDER', 'BIRTHPLACE', 'ADDRESS', 'CITY', 'STATE', 'COUNTY', 'FIPS', 'ZIP', 'LAT', 'LON', 'HEALTHCARE_EXPENSES', 'HEALTHCARE_COVERAGE', 'INCOME']\n",
            "\n",
            "procedures: shape=(19287, 10)\n",
            "['START', 'STOP', 'PATIENT', 'ENCOUNTER', 'SYSTEM', 'CODE', 'DESCRIPTION', 'BASE_COST', 'REASONCODE', 'REASONDESCRIPTION']\n",
            "\n"
          ]
        },
        {
          "output_type": "stream",
          "name": "stderr",
          "text": [
            "/tmp/ipython-input-2306563396.py:6: UserWarning: Could not infer format, so each element will be parsed individually, falling back to `dateutil`. To ensure parsing is consistent and as-expected, please specify a format.\n",
            "  df[c] = pd.to_datetime(df[c], errors='coerce')\n"
          ]
        }
      ]
    },
    {
      "cell_type": "code",
      "source": [
        "# Parse datetimes for columns that look like dates\n",
        "def parse_dates(df):\n",
        "    for c in df.columns:\n",
        "        if any(k in c.lower() for k in ['date','start','stop','birth']):\n",
        "            try:\n",
        "                df[c] = pd.to_datetime(df[c], errors='coerce')\n",
        "            except Exception:\n",
        "                pass\n",
        "    return df\n",
        "\n",
        "for k in list(dfs.keys()):\n",
        "    dfs[k] = parse_dates(dfs[k])\n",
        "\n",
        "# quick shapes and sample columns\n",
        "for k, df in dfs.items():\n",
        "    print(f\"{k}: shape={df.shape}\")\n",
        "    print(df.columns.tolist())\n",
        "    print()\n"
      ],
      "metadata": {
        "colab": {
          "base_uri": "https://localhost:8080/"
        },
        "id": "uu-ML0nAGrhl",
        "outputId": "1b8452d1-dbe2-46dd-aa8e-99a964432207"
      },
      "execution_count": null,
      "outputs": [
        {
          "output_type": "stream",
          "name": "stdout",
          "text": [
            "supplies: shape=(3149, 6)\n",
            "['DATE', 'PATIENT', 'ENCOUNTER', 'CODE', 'DESCRIPTION', 'QUANTITY']\n",
            "\n",
            "observations: shape=(100980, 9)\n",
            "['DATE', 'PATIENT', 'ENCOUNTER', 'CATEGORY', 'CODE', 'DESCRIPTION', 'VALUE', 'UNITS', 'TYPE']\n",
            "\n",
            "claims_transactions: shape=(104272, 33)\n",
            "['ID', 'CLAIMID', 'CHARGEID', 'PATIENTID', 'TYPE', 'AMOUNT', 'METHOD', 'FROMDATE', 'TODATE', 'PLACEOFSERVICE', 'PROCEDURECODE', 'MODIFIER1', 'MODIFIER2', 'DIAGNOSISREF1', 'DIAGNOSISREF2', 'DIAGNOSISREF3', 'DIAGNOSISREF4', 'UNITS', 'DEPARTMENTID', 'NOTES', 'UNITAMOUNT', 'TRANSFEROUTID', 'TRANSFERTYPE', 'PAYMENTS', 'ADJUSTMENTS', 'TRANSFERS', 'OUTSTANDING', 'APPOINTMENTID', 'LINENOTE', 'PATIENTINSURANCEID', 'FEESCHEDULEID', 'PROVIDERID', 'SUPERVISINGPROVIDERID']\n",
            "\n",
            "medications: shape=(5701, 13)\n",
            "['START', 'STOP', 'PATIENT', 'PAYER', 'ENCOUNTER', 'CODE', 'DESCRIPTION', 'BASE_COST', 'PAYER_COVERAGE', 'DISPENSES', 'TOTALCOST', 'REASONCODE', 'REASONDESCRIPTION']\n",
            "\n",
            "devices: shape=(640, 7)\n",
            "['START', 'STOP', 'PATIENT', 'ENCOUNTER', 'CODE', 'DESCRIPTION', 'UDI']\n",
            "\n",
            "claims: shape=(12115, 31)\n",
            "['Id', 'PATIENTID', 'PROVIDERID', 'PRIMARYPATIENTINSURANCEID', 'SECONDARYPATIENTINSURANCEID', 'DEPARTMENTID', 'PATIENTDEPARTMENTID', 'DIAGNOSIS1', 'DIAGNOSIS2', 'DIAGNOSIS3', 'DIAGNOSIS4', 'DIAGNOSIS5', 'DIAGNOSIS6', 'DIAGNOSIS7', 'DIAGNOSIS8', 'REFERRINGPROVIDERID', 'APPOINTMENTID', 'CURRENTILLNESSDATE', 'SERVICEDATE', 'SUPERVISINGPROVIDERID', 'STATUS1', 'STATUS2', 'STATUSP', 'OUTSTANDING1', 'OUTSTANDING2', 'OUTSTANDINGP', 'LASTBILLEDDATE1', 'LASTBILLEDDATE2', 'LASTBILLEDDATEP', 'HEALTHCARECLAIMTYPEID1', 'HEALTHCARECLAIMTYPEID2']\n",
            "\n",
            "careplans: shape=(337, 9)\n",
            "['Id', 'START', 'STOP', 'PATIENT', 'ENCOUNTER', 'CODE', 'DESCRIPTION', 'REASONCODE', 'REASONDESCRIPTION']\n",
            "\n",
            "payers: shape=(10, 22)\n",
            "['Id', 'NAME', 'OWNERSHIP', 'ADDRESS', 'CITY', 'STATE_HEADQUARTERED', 'ZIP', 'PHONE', 'AMOUNT_COVERED', 'AMOUNT_UNCOVERED', 'REVENUE', 'COVERED_ENCOUNTERS', 'UNCOVERED_ENCOUNTERS', 'COVERED_MEDICATIONS', 'UNCOVERED_MEDICATIONS', 'COVERED_PROCEDURES', 'UNCOVERED_PROCEDURES', 'COVERED_IMMUNIZATIONS', 'UNCOVERED_IMMUNIZATIONS', 'UNIQUE_CUSTOMERS', 'QOLS_AVG', 'MEMBER_MONTHS']\n",
            "\n",
            "organizations: shape=(273, 11)\n",
            "['Id', 'NAME', 'ADDRESS', 'CITY', 'STATE', 'ZIP', 'LAT', 'LON', 'PHONE', 'REVENUE', 'UTILIZATION']\n",
            "\n",
            "immunizations: shape=(1535, 6)\n",
            "['DATE', 'PATIENT', 'ENCOUNTER', 'CODE', 'DESCRIPTION', 'BASE_COST']\n",
            "\n",
            "allergies: shape=(85, 15)\n",
            "['START', 'STOP', 'PATIENT', 'ENCOUNTER', 'CODE', 'SYSTEM', 'DESCRIPTION', 'TYPE', 'CATEGORY', 'REACTION1', 'DESCRIPTION1', 'SEVERITY1', 'REACTION2', 'DESCRIPTION2', 'SEVERITY2']\n",
            "\n",
            "providers: shape=(273, 13)\n",
            "['Id', 'ORGANIZATION', 'NAME', 'GENDER', 'SPECIALITY', 'ADDRESS', 'CITY', 'STATE', 'ZIP', 'LAT', 'LON', 'ENCOUNTERS', 'PROCEDURES']\n",
            "\n",
            "payer_transitions: shape=(4097, 8)\n",
            "['PATIENT', 'MEMBERID', 'START_DATE', 'END_DATE', 'PAYER', 'SECONDARY_PAYER', 'PLAN_OWNERSHIP', 'OWNER_NAME']\n",
            "\n",
            "imaging_studies: shape=(29193, 13)\n",
            "['Id', 'DATE', 'PATIENT', 'ENCOUNTER', 'SERIES_UID', 'BODYSITE_CODE', 'BODYSITE_DESCRIPTION', 'MODALITY_CODE', 'MODALITY_DESCRIPTION', 'INSTANCE_UID', 'SOP_CODE', 'SOP_DESCRIPTION', 'PROCEDURE_CODE']\n",
            "\n",
            "conditions: shape=(4294, 7)\n",
            "['START', 'STOP', 'PATIENT', 'ENCOUNTER', 'SYSTEM', 'CODE', 'DESCRIPTION']\n",
            "\n",
            "encounters: shape=(6414, 15)\n",
            "['Id', 'START', 'STOP', 'PATIENT', 'ORGANIZATION', 'PROVIDER', 'PAYER', 'ENCOUNTERCLASS', 'CODE', 'DESCRIPTION', 'BASE_ENCOUNTER_COST', 'TOTAL_CLAIM_COST', 'PAYER_COVERAGE', 'REASONCODE', 'REASONDESCRIPTION']\n",
            "\n",
            "patients: shape=(109, 28)\n",
            "['Id', 'BIRTHDATE', 'DEATHDATE', 'SSN', 'DRIVERS', 'PASSPORT', 'PREFIX', 'FIRST', 'MIDDLE', 'LAST', 'SUFFIX', 'MAIDEN', 'MARITAL', 'RACE', 'ETHNICITY', 'GENDER', 'BIRTHPLACE', 'ADDRESS', 'CITY', 'STATE', 'COUNTY', 'FIPS', 'ZIP', 'LAT', 'LON', 'HEALTHCARE_EXPENSES', 'HEALTHCARE_COVERAGE', 'INCOME']\n",
            "\n",
            "procedures: shape=(19287, 10)\n",
            "['START', 'STOP', 'PATIENT', 'ENCOUNTER', 'SYSTEM', 'CODE', 'DESCRIPTION', 'BASE_COST', 'REASONCODE', 'REASONDESCRIPTION']\n",
            "\n"
          ]
        }
      ]
    },
    {
      "cell_type": "code",
      "source": [
        "# Save all loaded raw tables as processed (sanitized copies) to keep versioned intermediate files\n",
        "PROCESSED = Path(\"/content/drive/MyDrive/synthea_sample_data_csv_latest/Processed\")\n",
        "PROCESSED.mkdir(exist_ok=True)\n",
        "\n",
        "print(\"Saved processed CSVs to:\", PROCESSED)\n",
        "# Drop PII from patients\n",
        "drop_cols = ['SSN','DRIVERS','PASSPORT','ADDRESS','PHONE']\n",
        "patients = dfs.get('patients').copy()\n",
        "for c in drop_cols:\n",
        "    if c in patients.columns:\n",
        "        patients.drop(columns=[c], inplace=True)\n",
        "\n",
        "# Save sanitized patients and a small sample of the dataset for the repo\n",
        "patients.to_csv(PROCESSED/'patients_sanitized.csv', index=False)\n",
        "print(\"Saved patients_sanitized.csv\")\n"
      ],
      "metadata": {
        "colab": {
          "base_uri": "https://localhost:8080/"
        },
        "id": "9QjJRzSmHRBB",
        "outputId": "3357a19c-a452-43c0-9d6a-0dd2e0abc9b7"
      },
      "execution_count": null,
      "outputs": [
        {
          "output_type": "stream",
          "name": "stdout",
          "text": [
            "Saved processed CSVs to: /content/drive/MyDrive/synthea_sample_data_csv_latest/Processed\n",
            "Saved patients_sanitized.csv\n"
          ]
        }
      ]
    },
    {
      "cell_type": "code",
      "source": [
        "# Save all loaded raw tables as processed (sanitized copies) to keep versioned intermediate files\n",
        "for name, df in dfs.items():\n",
        "    # remove obvious PII columns if present (simple list)\n",
        "    df2 = df.copy()\n",
        "    for pi in ['SSN','PASSPORT','DRIVERS','ADDRESS','PHONE','LAT','LON']:\n",
        "        if pi in df2.columns:\n",
        "            df2.drop(columns=[pi], inplace=True)\n",
        "    df2.to_csv(PROCESSED/f'{name}_processed.csv', index=False)\n",
        "print(\"Saved processed CSVs to:\", PROCESSED)\n"
      ],
      "metadata": {
        "colab": {
          "base_uri": "https://localhost:8080/"
        },
        "id": "4w5mUxttJ0MB",
        "outputId": "3de4a51d-1b34-4496-af4a-5465fb655cd4"
      },
      "execution_count": null,
      "outputs": [
        {
          "output_type": "stream",
          "name": "stdout",
          "text": [
            "Saved processed CSVs to: /content/drive/MyDrive/synthea_sample_data_csv_latest/Processed\n"
          ]
        }
      ]
    },
    {
      "cell_type": "markdown",
      "source": [
        "# **Quick Summary Matrix**"
      ],
      "metadata": {
        "id": "hfruaKjaKDtw"
      }
    },
    {
      "cell_type": "code",
      "source": [
        "# Basic summary\n",
        "print(\"✅ Data loaded:\")\n",
        "for name in ['patients','encounters','observations','conditions']:\n",
        "    if name in dfs:\n",
        "        print(f\"{name.capitalize()}: {dfs[name].shape}\")\n"
      ],
      "metadata": {
        "colab": {
          "base_uri": "https://localhost:8080/"
        },
        "id": "agId9uCoKA0m",
        "outputId": "3795d84e-2c14-4e9e-fe12-712f4863bd0c"
      },
      "execution_count": null,
      "outputs": [
        {
          "output_type": "stream",
          "name": "stdout",
          "text": [
            "✅ Data loaded:\n",
            "Patients: (109, 28)\n",
            "Encounters: (6414, 15)\n",
            "Observations: (100980, 9)\n",
            "Conditions: (4294, 7)\n"
          ]
        }
      ]
    },
    {
      "cell_type": "markdown",
      "source": [
        "# REFERENCES"
      ],
      "metadata": {
        "id": "nHqa4FifowOc"
      }
    },
    {
      "cell_type": "markdown",
      "source": [
        "\n",
        "\n",
        "1.   https://synthea.mitre.org/downloads\n",
        "2.   List item\n",
        "\n"
      ],
      "metadata": {
        "id": "8SMbao-Do2SO"
      }
    }
  ]
}