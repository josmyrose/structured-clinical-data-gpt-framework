{
  "nbformat": 4,
  "nbformat_minor": 0,
  "metadata": {
    "colab": {
      "provenance": []
    },
    "kernelspec": {
      "name": "python3",
      "display_name": "Python 3"
    },
    "language_info": {
      "name": "python"
    }
  },
  "cells": [
    {
      "cell_type": "code",
      "execution_count": null,
      "metadata": {
        "id": "jpesCKRehKB0"
      },
      "outputs": [],
      "source": [
        "# ==============================================================\n",
        "# 📘 01_data_preparation.ipynb\n",
        "# Author: Josmy Mathew\n",
        "# Project: AI-Digital-Twin-for-Clinical-Data\n",
        "# Description:\n",
        "#   Load, clean, and integrate Synthea EHR data into\n",
        "#   structured longitudinal patient time-series tables.\n",
        "# ==============================================================\n",
        "\n"
      ]
    },
    {
      "cell_type": "markdown",
      "source": [
        "**Step 1 — Import Libraries**"
      ],
      "metadata": {
        "id": "bUGL7YMYpxTK"
      }
    },
    {
      "cell_type": "code",
      "source": [
        "import pandas as pd\n",
        "import numpy as np\n",
        "import os\n",
        "from datetime import datetime\n",
        "import matplotlib.pyplot as plt\n",
        "import seaborn as sns\n",
        "\n",
        "# Display settings\n",
        "pd.set_option('display.max_columns', None)\n"
      ],
      "metadata": {
        "id": "LTlgY2wWp4Ep"
      },
      "execution_count": null,
      "outputs": []
    },
    {
      "cell_type": "markdown",
      "source": [
        "**Step 2 — Load Synthea CSV Data**"
      ],
      "metadata": {
        "id": "xkqNYtfmqMUk"
      }
    },
    {
      "cell_type": "code",
      "source": [
        "# --------------------------------------------------------------\n",
        "# 2. Load Raw Synthea Data\n",
        "# --------------------------------------------------------------\n",
        "\n",
        "DATA_PATH = \"/content/drive/MyDrive/synthea_sample_data_csv_latest\"\n",
        "\n",
        "patients = pd.read_csv(os.path.join(DATA_PATH, \"patients.csv\"))\n",
        "encounters = pd.read_csv(os.path.join(DATA_PATH, \"encounters.csv\"))\n",
        "observations = pd.read_csv(os.path.join(DATA_PATH, \"observations.csv\"))\n",
        "conditions = pd.read_csv(os.path.join(DATA_PATH, \"conditions.csv\"))\n",
        "\n",
        "print(\"✅ Data loaded:\")\n",
        "print(f\"Patients: {patients.shape}\")\n",
        "print(f\"Encounters: {encounters.shape}\")\n",
        "print(f\"Observations: {observations.shape}\")\n",
        "print(f\"Conditions: {conditions.shape}\")\n",
        "\n",
        "\n",
        "print(f\"Patients: {patients.columns}\")\n",
        "print(f\"Encounters: {encounters.columns}\")\n",
        "print(f\"Observations: {observations.columns}\")\n",
        "print(f\"Conditions: {conditions.columns}\")"
      ],
      "metadata": {
        "id": "tXgSzjQdmRQl",
        "colab": {
          "base_uri": "https://localhost:8080/"
        },
        "outputId": "82cf3a0d-0ea8-44f2-ef47-e9ff2b665683"
      },
      "execution_count": null,
      "outputs": [
        {
          "output_type": "stream",
          "name": "stdout",
          "text": [
            "✅ Data loaded:\n",
            "Patients: (109, 28)\n",
            "Encounters: (6414, 15)\n",
            "Observations: (100980, 9)\n",
            "Conditions: (4294, 7)\n",
            "Patients: Index(['Id', 'BIRTHDATE', 'DEATHDATE', 'SSN', 'DRIVERS', 'PASSPORT', 'PREFIX',\n",
            "       'FIRST', 'MIDDLE', 'LAST', 'SUFFIX', 'MAIDEN', 'MARITAL', 'RACE',\n",
            "       'ETHNICITY', 'GENDER', 'BIRTHPLACE', 'ADDRESS', 'CITY', 'STATE',\n",
            "       'COUNTY', 'FIPS', 'ZIP', 'LAT', 'LON', 'HEALTHCARE_EXPENSES',\n",
            "       'HEALTHCARE_COVERAGE', 'INCOME'],\n",
            "      dtype='object')\n",
            "Encounters: Index(['Id', 'START', 'STOP', 'PATIENT', 'ORGANIZATION', 'PROVIDER', 'PAYER',\n",
            "       'ENCOUNTERCLASS', 'CODE', 'DESCRIPTION', 'BASE_ENCOUNTER_COST',\n",
            "       'TOTAL_CLAIM_COST', 'PAYER_COVERAGE', 'REASONCODE',\n",
            "       'REASONDESCRIPTION'],\n",
            "      dtype='object')\n",
            "Observations: Index(['DATE', 'PATIENT', 'ENCOUNTER', 'CATEGORY', 'CODE', 'DESCRIPTION',\n",
            "       'VALUE', 'UNITS', 'TYPE'],\n",
            "      dtype='object')\n",
            "Conditions: Index(['START', 'STOP', 'PATIENT', 'ENCOUNTER', 'SYSTEM', 'CODE',\n",
            "       'DESCRIPTION'],\n",
            "      dtype='object')\n"
          ]
        }
      ]
    },
    {
      "cell_type": "code",
      "source": [
        "# --------------------------------------------------------------\n",
        "# 3️⃣ Parse Datetimes\n",
        "# --------------------------------------------------------------\n",
        "for df in [patients, encounters, observations, conditions]:\n",
        "    for col in df.columns:\n",
        "        if any(key in col.lower() for key in ['date', 'start', 'stop']):\n",
        "            df[col] = pd.to_datetime(df[col], errors='coerce')\n",
        "\n",
        "# --------------------------------------------------------------\n",
        "# 4️⃣ Example: Merge Encounters + Observations\n",
        "# --------------------------------------------------------------\n",
        "# Each patient → time-series of observations (labs, vitals, etc.)\n",
        "merged = pd.merge(\n",
        "    observations,\n",
        "    encounters[['Id', 'PATIENT', 'START']],\n",
        "    left_on='ENCOUNTER',\n",
        "    right_on='Id',\n",
        "    suffixes=('_obs', '_enc')\n",
        ")\n",
        "\n",
        "merged = merged[['PATIENT', 'START', 'CODE', 'DESCRIPTION_obs', 'VALUE', 'UNIT']]\n",
        "merged.rename(columns={'DESCRIPTION_obs': 'FEATURE', 'START': 'DATE'}, inplace=True)\n",
        "\n",
        "# Sort chronologically per patient\n",
        "merged = merged.sort_values(['PATIENT', 'DATE'])\n"
      ],
      "metadata": {
        "colab": {
          "base_uri": "https://localhost:8080/",
          "height": 356
        },
        "id": "prt1r8FijJA0",
        "outputId": "05416b7e-cbba-4bd6-80b3-6d9675cbd5e7"
      },
      "execution_count": null,
      "outputs": [
        {
          "output_type": "error",
          "ename": "KeyError",
          "evalue": "\"['PATIENT', 'DESCRIPTION_obs', 'UNIT'] not in index\"",
          "traceback": [
            "\u001b[0;31m---------------------------------------------------------------------------\u001b[0m",
            "\u001b[0;31mKeyError\u001b[0m                                  Traceback (most recent call last)",
            "\u001b[0;32m/tmp/ipython-input-1095235327.py\u001b[0m in \u001b[0;36m<cell line: 0>\u001b[0;34m()\u001b[0m\n\u001b[1;32m     19\u001b[0m )\n\u001b[1;32m     20\u001b[0m \u001b[0;34m\u001b[0m\u001b[0m\n\u001b[0;32m---> 21\u001b[0;31m \u001b[0mmerged\u001b[0m \u001b[0;34m=\u001b[0m \u001b[0mmerged\u001b[0m\u001b[0;34m[\u001b[0m\u001b[0;34m[\u001b[0m\u001b[0;34m'PATIENT'\u001b[0m\u001b[0;34m,\u001b[0m \u001b[0;34m'START'\u001b[0m\u001b[0;34m,\u001b[0m \u001b[0;34m'CODE'\u001b[0m\u001b[0;34m,\u001b[0m \u001b[0;34m'DESCRIPTION_obs'\u001b[0m\u001b[0;34m,\u001b[0m \u001b[0;34m'VALUE'\u001b[0m\u001b[0;34m,\u001b[0m \u001b[0;34m'UNIT'\u001b[0m\u001b[0;34m]\u001b[0m\u001b[0;34m]\u001b[0m\u001b[0;34m\u001b[0m\u001b[0;34m\u001b[0m\u001b[0m\n\u001b[0m\u001b[1;32m     22\u001b[0m \u001b[0mmerged\u001b[0m\u001b[0;34m.\u001b[0m\u001b[0mrename\u001b[0m\u001b[0;34m(\u001b[0m\u001b[0mcolumns\u001b[0m\u001b[0;34m=\u001b[0m\u001b[0;34m{\u001b[0m\u001b[0;34m'DESCRIPTION_obs'\u001b[0m\u001b[0;34m:\u001b[0m \u001b[0;34m'FEATURE'\u001b[0m\u001b[0;34m,\u001b[0m \u001b[0;34m'START'\u001b[0m\u001b[0;34m:\u001b[0m \u001b[0;34m'DATE'\u001b[0m\u001b[0;34m}\u001b[0m\u001b[0;34m,\u001b[0m \u001b[0minplace\u001b[0m\u001b[0;34m=\u001b[0m\u001b[0;32mTrue\u001b[0m\u001b[0;34m)\u001b[0m\u001b[0;34m\u001b[0m\u001b[0;34m\u001b[0m\u001b[0m\n\u001b[1;32m     23\u001b[0m \u001b[0;34m\u001b[0m\u001b[0m\n",
            "\u001b[0;32m/usr/local/lib/python3.12/dist-packages/pandas/core/frame.py\u001b[0m in \u001b[0;36m__getitem__\u001b[0;34m(self, key)\u001b[0m\n\u001b[1;32m   4106\u001b[0m             \u001b[0;32mif\u001b[0m \u001b[0mis_iterator\u001b[0m\u001b[0;34m(\u001b[0m\u001b[0mkey\u001b[0m\u001b[0;34m)\u001b[0m\u001b[0;34m:\u001b[0m\u001b[0;34m\u001b[0m\u001b[0;34m\u001b[0m\u001b[0m\n\u001b[1;32m   4107\u001b[0m                 \u001b[0mkey\u001b[0m \u001b[0;34m=\u001b[0m \u001b[0mlist\u001b[0m\u001b[0;34m(\u001b[0m\u001b[0mkey\u001b[0m\u001b[0;34m)\u001b[0m\u001b[0;34m\u001b[0m\u001b[0;34m\u001b[0m\u001b[0m\n\u001b[0;32m-> 4108\u001b[0;31m             \u001b[0mindexer\u001b[0m \u001b[0;34m=\u001b[0m \u001b[0mself\u001b[0m\u001b[0;34m.\u001b[0m\u001b[0mcolumns\u001b[0m\u001b[0;34m.\u001b[0m\u001b[0m_get_indexer_strict\u001b[0m\u001b[0;34m(\u001b[0m\u001b[0mkey\u001b[0m\u001b[0;34m,\u001b[0m \u001b[0;34m\"columns\"\u001b[0m\u001b[0;34m)\u001b[0m\u001b[0;34m[\u001b[0m\u001b[0;36m1\u001b[0m\u001b[0;34m]\u001b[0m\u001b[0;34m\u001b[0m\u001b[0;34m\u001b[0m\u001b[0m\n\u001b[0m\u001b[1;32m   4109\u001b[0m \u001b[0;34m\u001b[0m\u001b[0m\n\u001b[1;32m   4110\u001b[0m         \u001b[0;31m# take() does not accept boolean indexers\u001b[0m\u001b[0;34m\u001b[0m\u001b[0;34m\u001b[0m\u001b[0m\n",
            "\u001b[0;32m/usr/local/lib/python3.12/dist-packages/pandas/core/indexes/base.py\u001b[0m in \u001b[0;36m_get_indexer_strict\u001b[0;34m(self, key, axis_name)\u001b[0m\n\u001b[1;32m   6198\u001b[0m             \u001b[0mkeyarr\u001b[0m\u001b[0;34m,\u001b[0m \u001b[0mindexer\u001b[0m\u001b[0;34m,\u001b[0m \u001b[0mnew_indexer\u001b[0m \u001b[0;34m=\u001b[0m \u001b[0mself\u001b[0m\u001b[0;34m.\u001b[0m\u001b[0m_reindex_non_unique\u001b[0m\u001b[0;34m(\u001b[0m\u001b[0mkeyarr\u001b[0m\u001b[0;34m)\u001b[0m\u001b[0;34m\u001b[0m\u001b[0;34m\u001b[0m\u001b[0m\n\u001b[1;32m   6199\u001b[0m \u001b[0;34m\u001b[0m\u001b[0m\n\u001b[0;32m-> 6200\u001b[0;31m         \u001b[0mself\u001b[0m\u001b[0;34m.\u001b[0m\u001b[0m_raise_if_missing\u001b[0m\u001b[0;34m(\u001b[0m\u001b[0mkeyarr\u001b[0m\u001b[0;34m,\u001b[0m \u001b[0mindexer\u001b[0m\u001b[0;34m,\u001b[0m \u001b[0maxis_name\u001b[0m\u001b[0;34m)\u001b[0m\u001b[0;34m\u001b[0m\u001b[0;34m\u001b[0m\u001b[0m\n\u001b[0m\u001b[1;32m   6201\u001b[0m \u001b[0;34m\u001b[0m\u001b[0m\n\u001b[1;32m   6202\u001b[0m         \u001b[0mkeyarr\u001b[0m \u001b[0;34m=\u001b[0m \u001b[0mself\u001b[0m\u001b[0;34m.\u001b[0m\u001b[0mtake\u001b[0m\u001b[0;34m(\u001b[0m\u001b[0mindexer\u001b[0m\u001b[0;34m)\u001b[0m\u001b[0;34m\u001b[0m\u001b[0;34m\u001b[0m\u001b[0m\n",
            "\u001b[0;32m/usr/local/lib/python3.12/dist-packages/pandas/core/indexes/base.py\u001b[0m in \u001b[0;36m_raise_if_missing\u001b[0;34m(self, key, indexer, axis_name)\u001b[0m\n\u001b[1;32m   6250\u001b[0m \u001b[0;34m\u001b[0m\u001b[0m\n\u001b[1;32m   6251\u001b[0m             \u001b[0mnot_found\u001b[0m \u001b[0;34m=\u001b[0m \u001b[0mlist\u001b[0m\u001b[0;34m(\u001b[0m\u001b[0mensure_index\u001b[0m\u001b[0;34m(\u001b[0m\u001b[0mkey\u001b[0m\u001b[0;34m)\u001b[0m\u001b[0;34m[\u001b[0m\u001b[0mmissing_mask\u001b[0m\u001b[0;34m.\u001b[0m\u001b[0mnonzero\u001b[0m\u001b[0;34m(\u001b[0m\u001b[0;34m)\u001b[0m\u001b[0;34m[\u001b[0m\u001b[0;36m0\u001b[0m\u001b[0;34m]\u001b[0m\u001b[0;34m]\u001b[0m\u001b[0;34m.\u001b[0m\u001b[0munique\u001b[0m\u001b[0;34m(\u001b[0m\u001b[0;34m)\u001b[0m\u001b[0;34m)\u001b[0m\u001b[0;34m\u001b[0m\u001b[0;34m\u001b[0m\u001b[0m\n\u001b[0;32m-> 6252\u001b[0;31m             \u001b[0;32mraise\u001b[0m \u001b[0mKeyError\u001b[0m\u001b[0;34m(\u001b[0m\u001b[0;34mf\"{not_found} not in index\"\u001b[0m\u001b[0;34m)\u001b[0m\u001b[0;34m\u001b[0m\u001b[0;34m\u001b[0m\u001b[0m\n\u001b[0m\u001b[1;32m   6253\u001b[0m \u001b[0;34m\u001b[0m\u001b[0m\n\u001b[1;32m   6254\u001b[0m     \u001b[0;34m@\u001b[0m\u001b[0moverload\u001b[0m\u001b[0;34m\u001b[0m\u001b[0;34m\u001b[0m\u001b[0m\n",
            "\u001b[0;31mKeyError\u001b[0m: \"['PATIENT', 'DESCRIPTION_obs', 'UNIT'] not in index\""
          ]
        }
      ]
    },
    {
      "cell_type": "code",
      "source": [
        "print(merged.columns.tolist())\n"
      ],
      "metadata": {
        "colab": {
          "base_uri": "https://localhost:8080/",
          "height": 141
        },
        "id": "BV9YA5cSVSi8",
        "outputId": "d3d856b4-4b23-4d10-9333-ed89a250000c"
      },
      "execution_count": null,
      "outputs": [
        {
          "output_type": "error",
          "ename": "NameError",
          "evalue": "name 'merged' is not defined",
          "traceback": [
            "\u001b[0;31m---------------------------------------------------------------------------\u001b[0m",
            "\u001b[0;31mNameError\u001b[0m                                 Traceback (most recent call last)",
            "\u001b[0;32m/tmp/ipython-input-1740476469.py\u001b[0m in \u001b[0;36m<cell line: 0>\u001b[0;34m()\u001b[0m\n\u001b[0;32m----> 1\u001b[0;31m \u001b[0mprint\u001b[0m\u001b[0;34m(\u001b[0m\u001b[0mmerged\u001b[0m\u001b[0;34m.\u001b[0m\u001b[0mcolumns\u001b[0m\u001b[0;34m.\u001b[0m\u001b[0mtolist\u001b[0m\u001b[0;34m(\u001b[0m\u001b[0;34m)\u001b[0m\u001b[0;34m)\u001b[0m\u001b[0;34m\u001b[0m\u001b[0;34m\u001b[0m\u001b[0m\n\u001b[0m",
            "\u001b[0;31mNameError\u001b[0m: name 'merged' is not defined"
          ]
        }
      ]
    },
    {
      "cell_type": "code",
      "source": [
        "print(merged.columns.tolist())\n"
      ],
      "metadata": {
        "colab": {
          "base_uri": "https://localhost:8080/",
          "height": 141
        },
        "id": "7xEOZOBHrkRM",
        "outputId": "3a6e65ca-d019-4aa1-d86a-2c5b38671d63"
      },
      "execution_count": null,
      "outputs": [
        {
          "output_type": "error",
          "ename": "NameError",
          "evalue": "name 'merged' is not defined",
          "traceback": [
            "\u001b[0;31m---------------------------------------------------------------------------\u001b[0m",
            "\u001b[0;31mNameError\u001b[0m                                 Traceback (most recent call last)",
            "\u001b[0;32m/tmp/ipython-input-1740476469.py\u001b[0m in \u001b[0;36m<cell line: 0>\u001b[0;34m()\u001b[0m\n\u001b[0;32m----> 1\u001b[0;31m \u001b[0mprint\u001b[0m\u001b[0;34m(\u001b[0m\u001b[0mmerged\u001b[0m\u001b[0;34m.\u001b[0m\u001b[0mcolumns\u001b[0m\u001b[0;34m.\u001b[0m\u001b[0mtolist\u001b[0m\u001b[0;34m(\u001b[0m\u001b[0;34m)\u001b[0m\u001b[0;34m)\u001b[0m\u001b[0;34m\u001b[0m\u001b[0;34m\u001b[0m\u001b[0m\n\u001b[0m",
            "\u001b[0;31mNameError\u001b[0m: name 'merged' is not defined"
          ]
        }
      ]
    },
    {
      "cell_type": "code",
      "source": [
        "# --------------------------------------------------------------\n",
        "# 3️⃣ Parse Datetimes\n",
        "# --------------------------------------------------------------\n",
        "for df in [patients, encounters, observations, conditions]:\n",
        "    for col in df.columns:\n",
        "        if any(key in col.lower() for key in ['date', 'start', 'stop']):\n",
        "            df[col] = pd.to_datetime(df[col], errors='coerce')\n",
        "\n",
        "# --------------------------------------------------------------\n",
        "# 4️⃣ Example: Merge Encounters + Observations\n",
        "# --------------------------------------------------------------\n",
        "# Each patient → time-series of observations (labs, vitals, etc.)\n",
        "merged = pd.merge(\n",
        "    observations,\n",
        "    encounters[['Id', 'PATIENT', 'START']],\n",
        "    left_on='ENCOUNTER',\n",
        "    right_on='Id',\n",
        "    suffixes=('_obs', '_enc')\n",
        ")\n",
        "\n",
        "merged = merged[['PATIENT', 'START', 'CODE', 'DESCRIPTION_obs', 'VALUE', 'UNIT']]\n",
        "merged.rename(columns={'DESCRIPTION_obs': 'FEATURE', 'START': 'DATE'}, inplace=True)\n",
        "\n",
        "# Sort chronologically per patient\n",
        "merged = merged.sort_values(['PATIENT', 'DATE'])\n"
      ],
      "metadata": {
        "id": "TrBsmPaKjmkf"
      },
      "execution_count": null,
      "outputs": []
    },
    {
      "cell_type": "code",
      "source": [
        "# --------------------------------------------------------------\n",
        "# 5️⃣ Example Aggregation: One Row per (Patient, Date)\n",
        "# --------------------------------------------------------------\n",
        "pivot = merged.pivot_table(\n",
        "    index=['PATIENT', 'DATE'],\n",
        "    columns='FEATURE',\n",
        "    values='VALUE',\n",
        "    aggfunc='mean'\n",
        ").reset_index()\n",
        "\n",
        "print(\"✅ Aggregated shape:\", pivot.shape)\n",
        "pivot.head()\n",
        "\n",
        "# --------------------------------------------------------------\n",
        "# 6️⃣ Merge with Patient Demographics\n",
        "# --------------------------------------------------------------\n",
        "data_final = pd.merge(\n",
        "    pivot,\n",
        "    patients,\n",
        "    left_on='PATIENT',\n",
        "    right_on='Id',\n",
        "    how='left'\n",
        ").drop(columns=['Id'])\n",
        "\n",
        "# --------------------------------------------------------------\n",
        "# 7️⃣ Save Processed Data\n",
        "# --------------------------------------------------------------\n",
        "os.makedirs(\"../data/processed/\", exist_ok=True)\n",
        "data_final.to_csv(\"../data/processed/patient_timeseries.csv\", index=False)\n",
        "\n",
        "print(\"💾 Processed data saved to: data/processed/patient_timeseries.csv\")\n",
        "print(\"✅ Done!\")\n"
      ],
      "metadata": {
        "id": "ujVX0tz5jtQV"
      },
      "execution_count": null,
      "outputs": []
    },
    {
      "cell_type": "markdown",
      "source": [
        "# REFERENCES"
      ],
      "metadata": {
        "id": "nHqa4FifowOc"
      }
    },
    {
      "cell_type": "markdown",
      "source": [
        "\n",
        "\n",
        "1.   https://synthea.mitre.org/downloads\n",
        "2.   List item\n",
        "\n"
      ],
      "metadata": {
        "id": "8SMbao-Do2SO"
      }
    }
  ]
}